{
 "cells": [
  {
   "cell_type": "code",
   "execution_count": null,
   "metadata": {},
   "outputs": [],
   "source": [
    "import numpy as np\n",
    "import matplotlib.pyplot as plt"
   ]
  },
  {
   "cell_type": "code",
   "execution_count": null,
   "metadata": {},
   "outputs": [],
   "source": [
    "# Convert the default LUT to a smoother version.\n",
    "# The default LUT is symmetric, so we only need one axis.\n",
    "x16 = np.linspace(0,255,16)\n",
    "values16_stage = np.array([0, 15, 30, 46, 64, 82, 101, 121, 140, 158, 176, 193, 209, 224, 240, 255])\n",
    "plt.plot(x16, values16_stage)"
   ]
  },
  {
   "cell_type": "code",
   "execution_count": null,
   "metadata": {},
   "outputs": [],
   "source": [
    "# Define the steps in the post processing as functions.\n",
    "# TODO: Edit to include gamma correction\n",
    "def f(x):\n",
    "    return x * 0.9375 + 0.03125\n",
    "\n",
    "def lut(x, x16, values16):\n",
    "    return np.interp(x, x16, values16)\n",
    "\n",
    "def g(x, srgb):\n",
    "    return ((x - srgb) * 0.99961 + srgb) * 1.3703\n",
    "\n",
    "# Apply the original stage LUT.\n",
    "srgb = np.arange(256)\n",
    "result = g(lut(f(srgb), x16, values16_stage), srgb)\n",
    "result = result.clip(0.0, 255.0)\n",
    "\n",
    "plt.figure()\n",
    "plt.title('Result')\n",
    "plt.imshow(np.array([result]*64),cmap='gray',vmin=0,vmax=255.0)\n",
    "\n",
    "# Apply a new lut to the stage screenshot.\n",
    "values16_edit = values16_stage * 0.5\n",
    "result_corrected = lut(result, x16, values16_edit)\n",
    "result_corrected = result_corrected.clip(0.0, 255.0)\n",
    "\n",
    "plt.figure()\n",
    "plt.title('Edited Result')\n",
    "plt.imshow(np.array([result_corrected]*64),cmap='gray',vmin=0,vmax=255.0)\n",
    "\n",
    "# Solve for the final stage LUT.\n",
    "# This should be identical to the edited result above.\n",
    "values16_final = np.zeros(16)\n",
    "for i,xi in enumerate(x16):\n",
    "    # Given xi = f(x), we want to solve for lut_final(xi).\n",
    "    def f_inv(xi): \n",
    "        return (xi - 0.03125) / 0.9375\n",
    "\n",
    "    x = f_inv(xi)\n",
    "\n",
    "    def g_x_inv(xi):\n",
    "        return (((xi / 1.3703) - x) / 0.99961) + x\n",
    "    print(xi)\n",
    "\n",
    "    result_stage = g(lut(xi, x16, values16_stage), x)\n",
    "    result_stage_edited = lut(result_stage, x16, values16_edit)\n",
    "    values16_final[i] = g_x_inv(result_stage_edited)\n",
    "\n",
    "result_final = g(lut(f(srgb), x16, values16_final), srgb)\n",
    "result_final = result_final.clip(0.0, 255.0)\n",
    "\n",
    "plt.figure()\n",
    "plt.title('Final Reconstructed Result')\n",
    "plt.imshow(np.array([result_final]*64),cmap='gray',vmin=0,vmax=255.0)\n",
    "\n",
    "plt.figure()\n",
    "plt.title('Absolute Error')\n",
    "abs_error = np.abs(result_final - result_corrected)\n",
    "plt.imshow(np.array([abs_error]*64),cmap='gray',vmin=0,vmax=255.0)\n",
    "plt.figure(figsize=(6,2))\n",
    "plt.title('Absolute Error')\n",
    "plt.plot(np.arange(256), abs_error)\n",
    "print(f'Min Error: {abs_error.min()}, Max Error: {abs_error.max()}')"
   ]
  },
  {
   "cell_type": "code",
   "execution_count": null,
   "metadata": {},
   "outputs": [],
   "source": [
    "x_actual = [0.0, 32/255]\n",
    "y_actual = [0.0, 0.01599]\n",
    "\n",
    "plt.plot(x_actual, y_actual)"
   ]
  },
  {
   "cell_type": "markdown",
   "metadata": {},
   "source": [
    "Suppose we know \n",
    "$$result = srgb(g(lut_{stage}(f(x)), x))$$\n",
    "Given $lut_{edit}(result)$, can we find $lut_{final}$ such that  \n",
    "$$srgb(g(lut_{final}(f(x)), x)) = lut_{edit}(result)$$"
   ]
  },
  {
   "cell_type": "markdown",
   "metadata": {},
   "source": [
    "Let $x \\in [0,1]$  \n",
    "We want $$srgb(g(lut_{final}(f(x)), x)) = lut_{edit}(result)$$\n",
    "Substituting $result$ we get\n",
    "$$srgb(g(lut_{final}(f(x)), x)) = lut_{edit}(srgb(g(lut_{stage}(f(x)), x)))$$\n",
    "\n",
    "Define $g_{x}(y) = g(y, x)$ since $g$ itself is not invertible.  \n",
    "$$srgb(g_x(lut_{final}(f(x)))) = lut_{edit}(srgb(g_x(lut_{stage}(f(x)))))$$\n",
    "$g_x$ and $f$ are both invertible, and $linear$ and $srgb$ are inverses of each other, so \n",
    "$$lut_{final}(f(x)) = g_x^{-1}(linear(lut_{edit}(srgb(g_x(lut_{stage}(f(x)))))))$$\n",
    "\n",
    "Now we can construct the lookup table $lut_{final}$ by sampling points $x_i = f(x)$."
   ]
  }
 ],
 "metadata": {
  "interpreter": {
   "hash": "32e42b11b0907d2915f7cd8a0f08a87f18585e7f9215226f31c82d500d0ee43d"
  },
  "kernelspec": {
   "display_name": "Python 3.8.5 ('base')",
   "language": "python",
   "name": "python3"
  },
  "language_info": {
   "codemirror_mode": {
    "name": "ipython",
    "version": 3
   },
   "file_extension": ".py",
   "mimetype": "text/x-python",
   "name": "python",
   "nbconvert_exporter": "python",
   "pygments_lexer": "ipython3",
   "version": "3.8.5"
  },
  "orig_nbformat": 4
 },
 "nbformat": 4,
 "nbformat_minor": 2
}
